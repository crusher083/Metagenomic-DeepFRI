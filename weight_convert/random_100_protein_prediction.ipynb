{
 "cells": [
  {
   "cell_type": "code",
   "execution_count": 1,
   "metadata": {},
   "outputs": [
    {
     "name": "stderr",
     "output_type": "stream",
     "text": [
      "2023-04-28 10:40:46.260998: W tensorflow/stream_executor/platform/default/dso_loader.cc:64] Could not load dynamic library 'libcudart.so.11.0'; dlerror: libcudart.so.11.0: cannot open shared object file: No such file or directory; LD_LIBRARY_PATH: /nfs/nas22/fs2201/biol_micro_unix_modules/modules/software/binutils/2.37/lib:/nfs/nas22/fs2201/biol_micro_unix_modules/modules/software/Perl/5.32.0-GCCcore-10.2.0/lib:/nfs/nas22/fs2201/biol_micro_unix_modules/modules/software/DB/18.1.40-GCCcore-10.2.0/lib:/nfs/nas22/fs2201/biol_micro_unix_modules/modules/software/libreadline/8.0-GCCcore-10.2.0/lib:/nfs/nas22/fs2201/biol_micro_unix_modules/modules/software/gettext/0.21-GCCcore-10.2.0/lib:/nfs/nas22/fs2201/biol_micro_unix_modules/modules/software/ncurses/6.2-GCCcore-10.2.0/lib:/nfs/nas22/fs2201/biol_micro_unix_modules/modules/software/libxml2/2.9.10-GCCcore-10.2.0/lib:/nfs/nas22/fs2201/biol_micro_unix_modules/modules/software/XZ/5.2.5-GCCcore-10.2.0/lib:/nfs/nas22/fs2201/biol_micro_unix_modules/modules/software/expat/2.2.9-GCCcore-10.2.0/lib:/nfs/nas22/fs2201/biol_micro_unix_modules/modules/software/cURL/7.72.0-GCCcore-10.2.0/lib:/nfs/nas22/fs2201/biol_micro_unix_modules/modules/software/zlib/1.2.11-GCCcore-10.2.0/lib:/nfs/nas22/fs2201/biol_micro_unix_modules/modules/software/GCCcore/10.2.0/lib64:/nfs/nas22/fs2201/biol_micro_unix_modules/modules/software/GCCcore/10.2.0/lib\n",
      "2023-04-28 10:40:46.261036: I tensorflow/stream_executor/cuda/cudart_stub.cc:29] Ignore above cudart dlerror if you do not have a GPU set up on your machine.\n"
     ]
    }
   ],
   "source": [
    "import time\n",
    "import csv\n",
    "import onnxruntime as rt\n",
    "import numpy as np\n",
    "from pathlib import Path\n",
    "import json\n",
    "from meta_deepFRI.DeepFRI.deepfrier.Predictor import Predictor\n",
    "from meta_deepFRI.DeepFRI.deepfrier.utils import seq2onehot\n",
    "from meta_deepFRI.utils.bio_utils import protein_letters_1to3\n",
    "from tqdm import tqdm\n",
    "\n",
    "# write a wrapper to record time of function execution \n",
    "def timeit(func):\n",
    "    def wrapper(*args, **kwargs):\n",
    "        start = time.time()\n",
    "        result = func(*args, **kwargs)\n",
    "        end = time.time() - start\n",
    "        return result, end\n",
    "    return wrapper\n",
    "\n",
    "@timeit\n",
    "def predict_tf(pred: Predictor, seq=None, cmap=None):\n",
    "    if cmap is None:\n",
    "        result_tf = pred.model(seq, training=False)\n",
    "    else:\n",
    "        result_tf = pred.model([cmap, seq], training=False)\n",
    "    return result_tf\n",
    "\n",
    "@timeit\n",
    "def predict_onnx(session, seq, cmap=None):\n",
    "    inputDetails = session.get_inputs()\n",
    "    if cmap is None:\n",
    "        result_onnx = session.run(None, {inputDetails[0].name: seq.astype(np.float32)})\n",
    "    else:\n",
    "        result_onnx = session.run(None, {inputDetails[0].name: cmap.astype(np.float32), inputDetails[1].name: seq.astype(np.float32)})\n",
    "    \n",
    "    return result_onnx\n",
    "\n",
    "def generate_random_protein(prot_length):\n",
    "    aa_array = np.random.choice(list(protein_letters_1to3.keys()), size=(1, prot_length))\n",
    "    return \"\".join(list(*aa_array))"
   ]
  },
  {
   "cell_type": "code",
   "execution_count": 88,
   "metadata": {},
   "outputs": [
    {
     "name": "stdout",
     "output_type": "stream",
     "text": [
      "DeepCNN-MERGED_enzyme_commission\n"
     ]
    },
    {
     "name": "stderr",
     "output_type": "stream",
     "text": [
      "100%|██████████| 100/100 [00:07<00:00, 13.08it/s]\n"
     ]
    },
    {
     "name": "stdout",
     "output_type": "stream",
     "text": [
      "DeepCNN-MERGED_enzyme_commission passed the test!\n",
      "DeepCNN-MERGED_molecular_function\n"
     ]
    },
    {
     "name": "stderr",
     "output_type": "stream",
     "text": [
      "100%|██████████| 100/100 [00:07<00:00, 14.10it/s]\n"
     ]
    },
    {
     "name": "stdout",
     "output_type": "stream",
     "text": [
      "DeepCNN-MERGED_molecular_function passed the test!\n",
      "DeepCNN-MERGED_biological_process\n"
     ]
    },
    {
     "name": "stderr",
     "output_type": "stream",
     "text": [
      "100%|██████████| 100/100 [00:08<00:00, 11.25it/s]\n"
     ]
    },
    {
     "name": "stdout",
     "output_type": "stream",
     "text": [
      "DeepCNN-MERGED_biological_process passed the test!\n",
      "DeepCNN-MERGED_cellular_component\n"
     ]
    },
    {
     "name": "stderr",
     "output_type": "stream",
     "text": [
      "100%|██████████| 100/100 [00:07<00:00, 14.25it/s]\n"
     ]
    },
    {
     "name": "stdout",
     "output_type": "stream",
     "text": [
      "DeepCNN-MERGED_cellular_component passed the test!\n",
      "DeepFRI-MERGED_GraphConv_gcd_512-512-512_fcd_1024_ca_10.0_ec\n"
     ]
    },
    {
     "name": "stderr",
     "output_type": "stream",
     "text": [
      "100%|██████████| 100/100 [01:56<00:00,  1.17s/it]\n"
     ]
    },
    {
     "name": "stdout",
     "output_type": "stream",
     "text": [
      "DeepFRI-MERGED_GraphConv_gcd_512-512-512_fcd_1024_ca_10.0_ec passed the test!\n",
      "DeepFRI-MERGED_GraphConv_gcd_512-512-512_fcd_1024_ca_10.0_mf\n"
     ]
    },
    {
     "name": "stderr",
     "output_type": "stream",
     "text": [
      "100%|██████████| 100/100 [01:59<00:00,  1.19s/it]\n"
     ]
    },
    {
     "name": "stdout",
     "output_type": "stream",
     "text": [
      "DeepFRI-MERGED_GraphConv_gcd_512-512-512_fcd_1024_ca_10.0_mf passed the test!\n",
      "DeepFRI-MERGED_GraphConv_gcd_512-512-512_fcd_1024_ca_10.0_bp\n"
     ]
    },
    {
     "name": "stderr",
     "output_type": "stream",
     "text": [
      "100%|██████████| 100/100 [02:00<00:00,  1.20s/it]\n"
     ]
    },
    {
     "name": "stdout",
     "output_type": "stream",
     "text": [
      "DeepFRI-MERGED_GraphConv_gcd_512-512-512_fcd_1024_ca_10.0_bp passed the test!\n",
      "DeepFRI-MERGED_GraphConv_gcd_512-512-512_fcd_1024_ca_10.0_cc\n"
     ]
    },
    {
     "name": "stderr",
     "output_type": "stream",
     "text": [
      "100%|██████████| 100/100 [01:58<00:00,  1.18s/it]"
     ]
    },
    {
     "name": "stdout",
     "output_type": "stream",
     "text": [
      "DeepFRI-MERGED_GraphConv_gcd_512-512-512_fcd_1024_ca_10.0_cc passed the test!\n"
     ]
    },
    {
     "name": "stderr",
     "output_type": "stream",
     "text": [
      "\n"
     ]
    }
   ],
   "source": [
    "model_path =  \"/nfs/nas22/fs2202/biol_micro_sunagawa/Projects/EAN/PROPHAGE_REFSEQ_EAN/scratch/databases/meta_deepfri_data/newest_models/trained_models\"\n",
    "with open(model_path + \"/model_config.json\") as f:\n",
    "    config = json.loads(f.read())\n",
    "\n",
    "inference_times = []\n",
    "\n",
    "for net_type in [\"cnn\", \"gcn\"]:\n",
    "        for mode in [\"ec\", \"mf\", \"bp\", \"cc\"]:\n",
    "           \n",
    "            tf_model_prefix = str(Path(model_path) / config[net_type][\"models\"][mode].split(\"/\")[-1])\n",
    "            model_name = Path(tf_model_prefix).name\n",
    "            print(model_name)\n",
    "            pred = Predictor(model_prefix = tf_model_prefix, gcn=config[net_type][\"gcn\"])\n",
    "            session = rt.InferenceSession(f'../onnx_deepfri_models/{model_name}.onnx', \n",
    "                                          providers=['CPUExecutionProvider'])\n",
    "\n",
    "            # Testing GCNs\n",
    "            for seed in tqdm(range(1000), total=100):\n",
    "                np.random.seed(seed)\n",
    "                # zero out cmap\n",
    "                cmap = None\n",
    "                \n",
    "                # generate random protein and contact map\n",
    "                prot_len = np.random.randint(60, 1000, size=1)[0]\n",
    "                seq = generate_random_protein(prot_length=prot_len)\n",
    "                one_hot = seq2onehot(seq)\n",
    "                one_hot = one_hot.reshape(1, *one_hot.shape)\n",
    "                \n",
    "                if net_type == \"gcn\":\n",
    "                    cmap = np.random.randint(0, 2, size=(1, prot_len, prot_len), dtype=int)\n",
    "                    \n",
    "                tf_pred, tf_time = predict_tf(pred, seq=one_hot, cmap=cmap)\n",
    "                onnx_pred, onnx_time = predict_onnx(session, seq=one_hot, cmap=cmap)\n",
    "\n",
    "                # Skip if predictions all nan\n",
    "                if np.isnan(onnx_pred[0]).all():\n",
    "                    continue\n",
    "\n",
    "                # Compare predictions from TF and ONNX\n",
    "                assert np.isclose(tf_pred, onnx_pred, atol=10e-5).all()\n",
    "\n",
    "                # Record inference time\n",
    "                inference_times.append([prot_len, net_type, mode, tf_time, onnx_time])\n",
    "\n",
    "            print(f\"{model_name} passed the test!\")\n",
    "\n",
    "# write inference to csv\n",
    "with open(\"inference_times.csv\", \"w\") as f:\n",
    "    writer = csv.writer(f)\n",
    "    writer.writerow([\"prot_len\", \"net_type\", \"mode\", \"tf_time\", \"onnx_time\"])\n",
    "    writer.writerows(inference_times)"
   ]
  }
 ],
 "metadata": {
  "kernelspec": {
   "display_name": "deepfri",
   "language": "python",
   "name": "python3"
  },
  "language_info": {
   "codemirror_mode": {
    "name": "ipython",
    "version": 3
   },
   "file_extension": ".py",
   "mimetype": "text/x-python",
   "name": "python",
   "nbconvert_exporter": "python",
   "pygments_lexer": "ipython3",
   "version": "3.10.8"
  },
  "orig_nbformat": 4
 },
 "nbformat": 4,
 "nbformat_minor": 2
}
